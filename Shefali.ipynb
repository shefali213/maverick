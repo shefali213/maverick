{
 "cells": [
  {
   "cell_type": "markdown",
   "id": "122d7305-1252-4ec4-9d27-c6a0e7e6d037",
   "metadata": {},
   "source": [
    "# My Jupyter Notebook on IBM Watson Studio"
   ]
  },
  {
   "cell_type": "markdown",
   "id": "7fa74e6c-ba30-49a6-a610-f507b2b2be02",
   "metadata": {},
   "source": [
    "SHEFALI CHAUDHURI"
   ]
  },
  {
   "cell_type": "markdown",
   "id": "63b439d2-ad92-431b-96a6-58918dfad4e9",
   "metadata": {},
   "source": [
    "Current Occupation - Business Analyst"
   ]
  },
  {
   "cell_type": "markdown",
   "id": "12aff8de-3351-41ea-b609-3dee7d30ffbf",
   "metadata": {},
   "source": [
    "*I am interested in Data Science because my job demands the use of analytical tools. I also love doing numbers, and want to make a career in this field.*"
   ]
  },
  {
   "cell_type": "markdown",
   "id": "3c455623-2567-4e53-942e-c5615566f0f3",
   "metadata": {},
   "source": [
    "### This code is supposed to add two numbers"
   ]
  },
  {
   "cell_type": "code",
   "execution_count": 5,
   "id": "a0219778-64a6-4a9a-bf43-8af36445557d",
   "metadata": {},
   "outputs": [
    {
     "data": {
      "text/plain": [
       "2"
      ]
     },
     "execution_count": 5,
     "metadata": {},
     "output_type": "execute_result"
    }
   ],
   "source": [
    "1+1"
   ]
  },
  {
   "cell_type": "markdown",
   "id": "f4506726-cb62-47c7-8de4-9c0a6022d5cc",
   "metadata": {},
   "source": [
    "1. Flowers\n",
    "2. Petals\n",
    "3. Sepals\n",
    "    -  bisepalate\n",
    "    -  unisepalate"
   ]
  },
  {
   "cell_type": "markdown",
   "id": "ad44ed22-744a-4f81-83ac-9f18dc4f352d",
   "metadata": {},
   "source": []
  }
 ],
 "metadata": {
  "kernelspec": {
   "display_name": "Python",
   "language": "python",
   "name": "conda-env-python-py"
  },
  "language_info": {
   "codemirror_mode": {
    "name": "ipython",
    "version": 3
   },
   "file_extension": ".py",
   "mimetype": "text/x-python",
   "name": "python",
   "nbconvert_exporter": "python",
   "pygments_lexer": "ipython3",
   "version": "3.7.12"
  }
 },
 "nbformat": 4,
 "nbformat_minor": 5
}
